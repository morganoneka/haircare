{
 "cells": [
  {
   "cell_type": "code",
   "execution_count": 1,
   "id": "ebe03b96-c167-43f4-9c4d-7d6b95182522",
   "metadata": {},
   "outputs": [],
   "source": [
    "import requests\n",
    "from bs4 import BeautifulSoup\n",
    "import os\n",
    "import json\n",
    "from selenium import webdriver\n",
    "from selenium.webdriver.common.keys import Keys\n",
    "from selenium.webdriver.firefox.firefox_binary import FirefoxBinary\n",
    "from selenium.common.exceptions import NoSuchElementException\n",
    "import math\n",
    "import time\n",
    "import pandas as pd"
   ]
  },
  {
   "cell_type": "code",
   "execution_count": 2,
   "id": "0368f137-c6c3-4dbe-bb11-173456c40e61",
   "metadata": {},
   "outputs": [],
   "source": [
    "driver = webdriver.Firefox(executable_path=r'/Users/morganoneka/Documents/PersonalProjects/geckodriver')"
   ]
  },
  {
   "cell_type": "markdown",
   "id": "28b6dd9b-f2e1-4b5d-bb96-e8d6f33e6910",
   "metadata": {},
   "source": [
    "## scraping the amazon search page"
   ]
  },
  {
   "cell_type": "code",
   "execution_count": 3,
   "id": "aa31cd8b-6064-4920-99cc-09688009cb81",
   "metadata": {},
   "outputs": [],
   "source": [
    "brand_page = 'https://www.amazon.com/s?k=As+I+Am&rh=n%3A3760911%2Cp_89%3AAs+I+Am&dc&qid=1650565270&rnid=2528832011&ref=sr_nr_p_89_1'\n",
    "driver.get(brand_page)\n",
    "time.sleep(5)\n",
    "\n",
    "html = driver.page_source\n",
    "soup = BeautifulSoup(html, \"html.parser\")"
   ]
  },
  {
   "cell_type": "code",
   "execution_count": 7,
   "id": "dd2262ad-c260-4bbb-8d18-fd1eaf0ea163",
   "metadata": {},
   "outputs": [],
   "source": [
    "links = soup.find_all(\"h2\")"
   ]
  },
  {
   "cell_type": "code",
   "execution_count": 8,
   "id": "88330400-f01e-4aa6-9456-5c497433c1dd",
   "metadata": {},
   "outputs": [
    {
     "data": {
      "text/plain": [
       "48"
      ]
     },
     "execution_count": 8,
     "metadata": {},
     "output_type": "execute_result"
    }
   ],
   "source": [
    "len(links)"
   ]
  },
  {
   "cell_type": "markdown",
   "id": "38acbce5-14ef-4f8d-8718-2d27dbcf5357",
   "metadata": {},
   "source": [
    "## scraping weird display pages"
   ]
  },
  {
   "cell_type": "code",
   "execution_count": 9,
   "id": "4549d9c6-8438-4685-a505-c7ede795c148",
   "metadata": {},
   "outputs": [],
   "source": [
    "brand_page = 'https://www.amazon.com/stores/page/1DB8A150-0F33-43F4-B681-6911B16BF1BD?ingress=2&visitId=3dec1212-38b5-45f5-b1df-26f94b3a7df5&ref_=ast_bln'\n",
    "driver.get(brand_page)\n",
    "time.sleep(5)\n",
    "\n",
    "html = driver.page_source\n",
    "soup = BeautifulSoup(html, \"html.parser\")"
   ]
  },
  {
   "cell_type": "code",
   "execution_count": 11,
   "id": "6a2f5994-9984-4b59-96f6-801f50f93680",
   "metadata": {},
   "outputs": [
    {
     "data": {
      "text/plain": [
       "2"
      ]
     },
     "execution_count": 11,
     "metadata": {},
     "output_type": "execute_result"
    }
   ],
   "source": [
    "links = soup.find_all(\"a\", class_=\"ProductShowcase__title__3eXnB\")\n",
    "len(links)"
   ]
  },
  {
   "cell_type": "markdown",
   "id": "c61f17b7-b02a-4994-a10f-80f1ba204b69",
   "metadata": {},
   "source": [
    "## let's try to make a generalized item acquisition function"
   ]
  },
  {
   "cell_type": "code",
   "execution_count": 19,
   "id": "c9138cf8-4952-4fd8-a2de-d14872cf4b9e",
   "metadata": {},
   "outputs": [],
   "source": [
    "def get_item_list(brand_page):\n",
    "    # pull up brand page\n",
    "    driver.get(brand_page)\n",
    "    time.sleep(5)\n",
    "    html = driver.page_source\n",
    "    soup = BeautifulSoup(html, \"html.parser\")\n",
    "    \n",
    "    item_listing = []\n",
    "    \n",
    "    # note that some pages have combinations of the different item listings so that's why this is 3 separate if statements not if/else\n",
    "    # parse page like this: https://www.amazon.com/stores/page/AD6500C9-1CC9-47A6-AF55-30CAC721D436?ingress=2&visitId=6a918af0-3d48-4b0c-8963-93feb0ebbb20&ref_=ast_bln\n",
    "    if len(soup.find_all(\"div\", class_=\"columns\")) > 0:\n",
    "        items = soup.find_all(\"div\", class_=\"columns\")[0].find_all(\"li\")\n",
    "        for item in items:\n",
    "            item_listing.append(get_item_url_from_listing(item))\n",
    "    \n",
    "    # parse page like this: https://www.amazon.com/s?k=As+I+Am&rh=n%3A3760911%2Cp_89%3AAs+I+Am&dc&qid=1650565270&rnid=2528832011&ref=sr_nr_p_89_1\n",
    "    if len(soup.find_all(\"h2\")) > 0:\n",
    "        items = soup.find_all(\"h2\")\n",
    "        for item in items:\n",
    "            item_listing.append(get_item_url_from_listing(item))\n",
    "    \n",
    "    # parse page like this: https://www.amazon.com/stores/page/1DB8A150-0F33-43F4-B681-6911B16BF1BD?ingress=2&visitId=3dec1212-38b5-45f5-b1df-26f94b3a7df5&ref_=ast_bln\n",
    "    if len(soup.find_all(\"a\", class_=\"ProductShowcase__title__3eXnB\")) > 0:\n",
    "        items = soup.find_all(\"a\", class_=\"ProductShowcase__title__3eXnB\")\n",
    "        for item in items:\n",
    "            item_listing.append(get_item_url_from_listing(item))\n",
    "    \n",
    "    \n",
    "#     return([\"https://www.amazon.com\" + item.find_all(\"a\")[0].get(\"href\") for item in items])\n",
    "    return(item_listing)\n",
    "\n",
    "def get_item_url_from_listing(listing):\n",
    "    try:\n",
    "        if listing.name == 'a':\n",
    "            return (\"https://www.amazon.com\" + listing.get(\"href\") )\n",
    "        else:\n",
    "            return (\"https://www.amazon.com\" + listing.find_all(\"a\")[0].get(\"href\") )\n",
    "    except:\n",
    "        return \"\""
   ]
  },
  {
   "cell_type": "code",
   "execution_count": 20,
   "id": "a6a740f7-dfd6-4213-a207-01340f25140c",
   "metadata": {},
   "outputs": [
    {
     "name": "stdout",
     "output_type": "stream",
     "text": [
      "a\n",
      "a\n"
     ]
    },
    {
     "data": {
      "text/plain": [
       "['https://www.amazon.com/Not-Your-Mothers-Cream-Styling/dp/B093466RZG?ref_=ast_sto_dp',\n",
       " 'https://www.amazon.com/Not-Your-Mothers-Defining-2-Pack/dp/B09JWSFC86?ref_=ast_sto_dp']"
      ]
     },
     "execution_count": 20,
     "metadata": {},
     "output_type": "execute_result"
    }
   ],
   "source": [
    "get_item_list('https://www.amazon.com/stores/page/1DB8A150-0F33-43F4-B681-6911B16BF1BD?ingress=2&visitId=3dec1212-38b5-45f5-b1df-26f94b3a7df5&ref_=ast_bln')"
   ]
  },
  {
   "cell_type": "markdown",
   "id": "9f0fe89c-4f3c-4153-b752-e73886401a9a",
   "metadata": {},
   "source": [
    "## get images"
   ]
  },
  {
   "cell_type": "code",
   "execution_count": 42,
   "id": "42ffbea5-05ee-4222-96d1-e130f53671f4",
   "metadata": {},
   "outputs": [],
   "source": [
    "url = \"https://www.amazon.com/Products-Carols-Daughter-Enhancing-Moisture/dp/B07HYZCNKT?ref_=ast_sto_dp&th=1\""
   ]
  },
  {
   "cell_type": "code",
   "execution_count": 43,
   "id": "d1243a4a-6abf-4c3d-94d8-19cad7d4242d",
   "metadata": {},
   "outputs": [],
   "source": [
    "driver.get(url)\n",
    "\n"
   ]
  },
  {
   "cell_type": "code",
   "execution_count": 44,
   "id": "978794a5-3b6c-449a-926c-d0ca7afca5fa",
   "metadata": {},
   "outputs": [],
   "source": [
    "html = driver.page_source\n",
    "soup = BeautifulSoup(html, \"html.parser\")"
   ]
  },
  {
   "cell_type": "code",
   "execution_count": 45,
   "id": "2dd5ebaa-ba3d-4709-8ed0-bee2f905600c",
   "metadata": {},
   "outputs": [
    {
     "data": {
      "text/plain": [
       "'https://m.media-amazon.com/images/I/81n1kQXecFL._SX679_.jpg'"
      ]
     },
     "execution_count": 45,
     "metadata": {},
     "output_type": "execute_result"
    }
   ],
   "source": [
    "image = soup.find(\"img\", id=\"landingImage\")\n",
    "image.get(\"src\")"
   ]
  },
  {
   "cell_type": "code",
   "execution_count": null,
   "id": "7959a97c-d4a3-40b8-93c5-e2a43c3c15a1",
   "metadata": {},
   "outputs": [],
   "source": []
  }
 ],
 "metadata": {
  "kernelspec": {
   "display_name": "Python 3",
   "language": "python",
   "name": "python3"
  },
  "language_info": {
   "codemirror_mode": {
    "name": "ipython",
    "version": 3
   },
   "file_extension": ".py",
   "mimetype": "text/x-python",
   "name": "python",
   "nbconvert_exporter": "python",
   "pygments_lexer": "ipython3",
   "version": "3.8.8"
  }
 },
 "nbformat": 4,
 "nbformat_minor": 5
}
